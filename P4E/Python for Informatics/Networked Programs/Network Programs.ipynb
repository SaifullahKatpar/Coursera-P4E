{
 "cells": [
  {
   "cell_type": "markdown",
   "metadata": {},
   "source": [
    "# Common TCP Ports"
   ]
  },
  {
   "cell_type": "markdown",
   "metadata": {},
   "source": [
    " Telent (23) - Login <br>\n",
    " SSH (22) - Secure Login <br>\n",
    " HTTP (80) <br>\n",
    " HTTPS (443) - Secure <br>\n",
    " SMTP (25) - Mail <br>\n",
    " IMAP (143/220/993) - Mail Retrieval <br>\n",
    " POP (109/110) - Mail Retrieval <br>\n",
    " DNS (53) - Domain Name <br>\n",
    " FTP (21) -  File Transfer <br>\n"
   ]
  },
  {
   "cell_type": "code",
   "execution_count": 4,
   "metadata": {
    "collapsed": false
   },
   "outputs": [
    {
     "data": {
      "text/plain": [
       "45"
      ]
     },
     "execution_count": 4,
     "metadata": {},
     "output_type": "execute_result"
    }
   ],
   "source": [
    "import socket\n",
    "mysocket = socket.socket(socket.AF_INET,socket.SOCK_STREAM)\n",
    "mysocket.connect( ('data.pr4e.org',80) ) # host,port\n",
    "cmd = 'GET http://data.pr4e.org/romeo.txt HTTP/1.0\\n\\n'.encode()\n",
    "mysocket.send(cmd)\n"
   ]
  },
  {
   "cell_type": "code",
   "execution_count": 5,
   "metadata": {
    "collapsed": false
   },
   "outputs": [
    {
     "name": "stdout",
     "output_type": "stream",
     "text": [
      "HTTP/1.1 400 Bad Request\r\n",
      "Date: Tue, 22 Aug 2017 17:18:18 GMT\r\n",
      "Server: Apache/2.4.7 (Ubuntu)\r\n",
      "Content-Length: 307\r\n",
      "Connection: close\r\n",
      "Content-Type: text/html; charset=iso-8859-1\r\n",
      "\r\n",
      "<!DOCTYPE HTML PUBLIC \"-//IETF//DTD HTML 2.0//EN\">\n",
      "<html><head>\n",
      "<title>400 Bad Request</title>\n",
      "</head><body>\n",
      "<h1>Bad Request</h1>\n",
      "<p>Your browser sent a request that this server could not understand.<br />\n",
      "</p>\n",
      "<hr>\n",
      "<address>Apache/2.4.7 (Ubuntu) Server at do1.dr-chuck.com Port 80</address>\n",
      "</body></html>\n",
      "\n"
     ]
    }
   ],
   "source": [
    "while True:\n",
    "    data= mysocket.recv(512)\n",
    "    if len(data) < 1:\n",
    "        break\n",
    "    print(data.decode())\n",
    "mysocket.close()"
   ]
  },
  {
   "cell_type": "markdown",
   "metadata": {},
   "source": [
    "# urllib"
   ]
  },
  {
   "cell_type": "code",
   "execution_count": 14,
   "metadata": {
    "collapsed": false
   },
   "outputs": [
    {
     "name": "stdout",
     "output_type": "stream",
     "text": [
      "But soft what light through yonder window breaks\n",
      "It is the east and Juliet is the sun\n",
      "Arise fair sun and kill the envious moon\n",
      "Who is already sick and pale with grief\n"
     ]
    }
   ],
   "source": [
    "import urllib.request, urllib.parse, urllib.error\n",
    "\n",
    "fhand = urllib.request.urlopen('http://data.pr4e.org/romeo.txt')\n",
    "for line in fhand:\n",
    "    print(line.decode().strip())\n"
   ]
  },
  {
   "cell_type": "markdown",
   "metadata": {},
   "source": [
    "## Like A File"
   ]
  },
  {
   "cell_type": "code",
   "execution_count": 15,
   "metadata": {
    "collapsed": false
   },
   "outputs": [
    {
     "name": "stdout",
     "output_type": "stream",
     "text": [
      "{'the': 3, 'yonder': 1, 'kill': 1, 'pale': 1, 'sick': 1, 'already': 1, 'It': 1, 'with': 1, 'window': 1, 'sun': 2, 'and': 3, 'soft': 1, 'grief': 1, 'breaks': 1, 'what': 1, 'envious': 1, 'Juliet': 1, 'fair': 1, 'light': 1, 'Who': 1, 'is': 3, 'But': 1, 'moon': 1, 'Arise': 1, 'east': 1, 'through': 1}\n"
     ]
    }
   ],
   "source": [
    "import urllib.request, urllib.parse, urllib.error\n",
    "\n",
    "fhand = urllib.request.urlopen('http://data.pr4e.org/romeo.txt')\n",
    "\n",
    "counts = dict()\n",
    "for line in fhand:\n",
    "    words = line.decode().split()\n",
    "    for word in words:\n",
    "        counts[word] = counts.get(word, 0) + 1\n",
    "print(counts)\n"
   ]
  },
  {
   "cell_type": "markdown",
   "metadata": {},
   "source": [
    "# Parsing HTML (Web Scraping)"
   ]
  },
  {
   "cell_type": "markdown",
   "metadata": {},
   "source": [
    "When a program or script pretends to be a browser and retrieves web pages,<br> looks at those web pages, extracts information, <br>and then looks at more web pages\n",
    "Search engines scrape web pages<br> - we call this “spidering the web” or “web crawling”\n"
   ]
  },
  {
   "cell_type": "markdown",
   "metadata": {},
   "source": [
    "# BeautifulSoup"
   ]
  },
  {
   "cell_type": "code",
   "execution_count": 17,
   "metadata": {
    "collapsed": false
   },
   "outputs": [
    {
     "name": "stdout",
     "output_type": "stream",
     "text": [
      "Enter - https://www.youtube.com/watch?v=kggmRyqZdeQ\n",
      "/\n",
      "//www.youtube.com/upload\n",
      "//support.google.com/youtube/answer/1738660?hl=ur\n",
      "javascript:void(0)\n",
      "javascript:void(0)\n",
      "//support.google.com/youtube/answer/1738660?hl=en\n",
      "javascript:void(0)\n",
      "/user/popchartbusters\n",
      "/channel/UCzL6rJhkoXkIt0fCv9T9_uA\n",
      "https://accounts.google.com/ServiceLogin?passive=true&service=youtube&hl=ur&uilel=3&continue=https%3A%2F%2Fwww.youtube.com%2Fsignin%3Faction_handle_signin%3Dtrue%26app%3Ddesktop%26next%3D%252Fwatch%253Fv%253DkggmRyqZdeQ%26feature%3D__FEATURE__%26hl%3Dur\n",
      "https://accounts.google.com/ServiceLogin?passive=true&service=youtube&hl=ur&uilel=3&continue=https%3A%2F%2Fwww.youtube.com%2Fsignin%3Faction_handle_signin%3Dtrue%26app%3Ddesktop%26next%3D%252Fwatch%253Fv%253DkggmRyqZdeQ%26feature%3D__FEATURE__%26hl%3Dur\n",
      "/timedtext_video?bl=watch&v=kggmRyqZdeQ&ref=wt&auto=yes\n",
      "https://accounts.google.com/ServiceLogin?passive=true&service=youtube&hl=ur&uilel=3&continue=https%3A%2F%2Fwww.youtube.com%2Fsignin%3Faction_handle_signin%3Dtrue%26app%3Ddesktop%26next%3D%252Fwatch%253Fv%253DkggmRyqZdeQ%26feature%3D__FEATURE__%26hl%3Dur\n",
      "https://accounts.google.com/ServiceLogin?passive=true&service=youtube&hl=ur&uilel=3&continue=https%3A%2F%2Fwww.youtube.com%2Fsignin%3Faction_handle_signin%3Dtrue%26app%3Ddesktop%26next%3D%252Fwatch%253Fv%253DkggmRyqZdeQ%26feature%3D__FEATURE__%26hl%3Dur\n",
      "http://www.youtube.com/popchartbusters\n",
      "/channel/UCi-g4cjqGV7jvU8aeSuj0jQ\n",
      "/watch?v=KGJVPKBxzng\n",
      "/watch?v=KGJVPKBxzng\n",
      "/watch?v=kggmRyqZdeQ&list=RDkggmRyqZdeQ\n",
      "/watch?v=LRjSTE9Pg4g\n",
      "/watch?v=LRjSTE9Pg4g\n",
      "/watch?v=NgXrJH-9Syc\n",
      "/watch?v=NgXrJH-9Syc\n",
      "/watch?v=qC977wZ2w4Q\n",
      "/watch?v=qC977wZ2w4Q\n",
      "/watch?v=LSZiTNv-a-c\n",
      "/watch?v=LSZiTNv-a-c\n",
      "/watch?v=TQR70KKYMmQ\n",
      "/watch?v=TQR70KKYMmQ\n",
      "/watch?v=UvAPcNPXVDQ\n",
      "/watch?v=UvAPcNPXVDQ\n",
      "/watch?v=P7HNnlsADH8\n",
      "/watch?v=P7HNnlsADH8\n",
      "/watch?v=6-n_szx2XRE\n",
      "/watch?v=6-n_szx2XRE\n",
      "/watch?v=h2ZiE-2P6c0\n",
      "/watch?v=h2ZiE-2P6c0\n",
      "/watch?v=ptt8rRNtlGQ\n",
      "/watch?v=ptt8rRNtlGQ\n",
      "/watch?v=6nmIdezPMbw\n",
      "/watch?v=6nmIdezPMbw\n",
      "/watch?v=uiGPSMJ-kWk\n",
      "/watch?v=uiGPSMJ-kWk\n",
      "/watch?v=McrUrVR3lNY\n",
      "/watch?v=McrUrVR3lNY\n",
      "/watch?v=iEicTmWnsPI\n",
      "/watch?v=iEicTmWnsPI\n",
      "/watch?v=0tjVtYtZ384\n",
      "/watch?v=0tjVtYtZ384\n",
      "/watch?v=uUCkBIelSjM\n",
      "/watch?v=uUCkBIelSjM\n",
      "/watch?v=C8WCeSEj_kE\n",
      "/watch?v=C8WCeSEj_kE\n",
      "/watch?v=6CzGgybEC10\n",
      "/watch?v=6CzGgybEC10\n",
      "/\n",
      "/feed/history\n",
      "//support.google.com/youtube/?hl=ur\n",
      "//www.youtube.com/yt/about/ur/\n",
      "//www.youtube.com/yt/press/ur/\n",
      "//www.youtube.com/yt/copyright/ur/\n",
      "//www.youtube.com/yt/creators/\n",
      "//www.youtube.com/yt/advertise/\n",
      "//www.youtube.com/yt/dev/ur/\n",
      "https://plus.google.com/+youtube\n",
      "/t/terms\n",
      "https://www.google.com/intl/ur/policies/privacy/\n",
      "//www.youtube.com/yt/policyandsafety/ur/\n",
      "//support.google.com/youtube/?hl=ur\n",
      "/testtube\n",
      "https://accounts.google.com/ServiceLogin?passive=true&service=youtube&hl=ur&uilel=3&continue=https%3A%2F%2Fwww.youtube.com%2Fsignin%3Faction_handle_signin%3Dtrue%26app%3Ddesktop%26next%3D%252Fwatch%253Fv%253DkggmRyqZdeQ%26feature%3Dplaylist%26hl%3Dur\n"
     ]
    }
   ],
   "source": [
    "import urllib.request, urllib.parse, urllib.error\n",
    "from bs4 import BeautifulSoup\n",
    "\n",
    "url = input('Enter - ')\n",
    "html = urllib.request.urlopen(url).read()\n",
    "soup = BeautifulSoup(html, 'html.parser')\n",
    "\n",
    "# Retrieve all of the anchor tags\n",
    "tags = soup('a')\n",
    "for tag in tags:\n",
    "    print(tag.get('href', None))\n"
   ]
  },
  {
   "cell_type": "code",
   "execution_count": null,
   "metadata": {
    "collapsed": true
   },
   "outputs": [],
   "source": []
  }
 ],
 "metadata": {
  "anaconda-cloud": {},
  "kernelspec": {
   "display_name": "Python [default]",
   "language": "python",
   "name": "python3"
  },
  "language_info": {
   "codemirror_mode": {
    "name": "ipython",
    "version": 3
   },
   "file_extension": ".py",
   "mimetype": "text/x-python",
   "name": "python",
   "nbconvert_exporter": "python",
   "pygments_lexer": "ipython3",
   "version": "3.5.2"
  }
 },
 "nbformat": 4,
 "nbformat_minor": 1
}
