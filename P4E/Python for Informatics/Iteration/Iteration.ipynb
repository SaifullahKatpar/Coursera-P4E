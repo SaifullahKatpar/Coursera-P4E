{
 "cells": [
  {
   "cell_type": "markdown",
   "metadata": {},
   "source": [
    "## The while statement"
   ]
  },
  {
   "cell_type": "code",
   "execution_count": 1,
   "metadata": {
    "collapsed": false
   },
   "outputs": [
    {
     "name": "stdout",
     "output_type": "stream",
     "text": [
      "5\n",
      "4\n",
      "3\n",
      "2\n",
      "1\n",
      "blast off!\n"
     ]
    }
   ],
   "source": [
    "n = 5\n",
    "while n >0:\n",
    "    print(n)\n",
    "    n = n- 1\n",
    "print('blast off!')"
   ]
  },
  {
   "cell_type": "code",
   "execution_count": 4,
   "metadata": {
    "collapsed": false
   },
   "outputs": [
    {
     "name": "stdout",
     "output_type": "stream",
     "text": [
      "> hello\n",
      "hello\n",
      "> come here\n",
      "come here\n",
      "> done\n",
      "Done!\n"
     ]
    }
   ],
   "source": [
    "while True: \n",
    "    line = input('> ') \n",
    "    if line == 'done': \n",
    "        break \n",
    "    print(line) \n",
    "print('Done!')\n"
   ]
  },
  {
   "cell_type": "code",
   "execution_count": 5,
   "metadata": {
    "collapsed": false
   },
   "outputs": [
    {
     "name": "stdout",
     "output_type": "stream",
     "text": [
      "> hello\n",
      "hello\n",
      "> # i am saif\n",
      "> come here\n",
      "come here\n",
      "> done\n",
      "Done!\n"
     ]
    }
   ],
   "source": [
    "while True: \n",
    "    line = input('> ') \n",
    "    if line[0] == '#': \n",
    "        continue \n",
    "    if line == 'done': \n",
    "        break \n",
    "    print(line) \n",
    "print('Done!')\n"
   ]
  },
  {
   "cell_type": "code",
   "execution_count": null,
   "metadata": {
    "collapsed": true
   },
   "outputs": [],
   "source": []
  }
 ],
 "metadata": {
  "anaconda-cloud": {},
  "kernelspec": {
   "display_name": "Python [default]",
   "language": "python",
   "name": "python3"
  },
  "language_info": {
   "codemirror_mode": {
    "name": "ipython",
    "version": 3
   },
   "file_extension": ".py",
   "mimetype": "text/x-python",
   "name": "python",
   "nbconvert_exporter": "python",
   "pygments_lexer": "ipython3",
   "version": "3.5.2"
  }
 },
 "nbformat": 4,
 "nbformat_minor": 1
}
