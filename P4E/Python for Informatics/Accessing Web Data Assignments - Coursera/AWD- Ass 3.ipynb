{
 "cells": [
  {
   "cell_type": "code",
   "execution_count": 14,
   "metadata": {},
   "outputs": [
    {
     "name": "stdout",
     "output_type": "stream",
     "text": [
      "Count:  50\n",
      "Sum:  2696\n"
     ]
    }
   ],
   "source": [
    "\n",
    "import urllib2\n",
    "from bs4 import BeautifulSoup\n",
    "import ssl\n",
    "\n",
    "# Ignore SSL certificate errors\n",
    "ctx = ssl.create_default_context()\n",
    "ctx.check_hostname = False\n",
    "ctx.verify_mode = ssl.CERT_NONE\n",
    "\n",
    "url = 'http://py4e-data.dr-chuck.net/comments_10453.html'\n",
    "req = urllib2.Request(url)\n",
    "html = urllib2.urlopen(req, context=ctx).read()\n",
    "soup = BeautifulSoup(html, 'html.parser')# Retrieve all of the anchor tags\n",
    "tags = soup('span')\n",
    "\n",
    "count  = 0\n",
    "total = 0\n",
    "for tag in tags:\n",
    "    count = count + 1\n",
    "    total =  total + int(tag.contents[0])\n",
    "print 'Count: ', count\n",
    "print 'Sum: ', total"
   ]
  },
  {
   "cell_type": "code",
   "execution_count": null,
   "metadata": {
    "collapsed": true
   },
   "outputs": [],
   "source": []
  }
 ],
 "metadata": {
  "kernelspec": {
   "display_name": "Python 2",
   "language": "python",
   "name": "python2"
  },
  "language_info": {
   "codemirror_mode": {
    "name": "ipython",
    "version": 2
   },
   "file_extension": ".py",
   "mimetype": "text/x-python",
   "name": "python",
   "nbconvert_exporter": "python",
   "pygments_lexer": "ipython2",
   "version": "2.7.13"
  }
 },
 "nbformat": 4,
 "nbformat_minor": 2
}
