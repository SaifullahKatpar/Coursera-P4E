{
 "cells": [
  {
   "cell_type": "code",
   "execution_count": 1,
   "metadata": {},
   "outputs": [
    {
     "name": "stdout",
     "output_type": "stream",
     "text": [
      "Enter url: 'http://py4e-data.dr-chuck.net/known_by_Kane.html'\n",
      "Enter count: 7\n",
      "Enter position: 18\n",
      "Essa\n",
      "Cobie\n",
      "Bekki\n",
      "Alieu\n",
      "Marcello\n",
      "Angelina\n",
      "Giacomo\n"
     ]
    }
   ],
   "source": [
    "\n",
    "import urllib2\n",
    "from bs4 import BeautifulSoup\n",
    "import ssl\n",
    "import re\n",
    "\n",
    "# Ignore SSL certificate errors\n",
    "ctx = ssl.create_default_context()\n",
    "ctx.check_hostname = False\n",
    "ctx.verify_mode = ssl.CERT_NONE\n",
    "url = input('Enter url: ')\n",
    "count = input('Enter count: ')\n",
    "pos = input('Enter position: ')\n",
    "pos = pos-1\n",
    "for i in range(count):    \n",
    "    soup = BeautifulSoup(urllib2.urlopen(urllib2.Request(url), context=ctx).read(), 'html.parser')\n",
    "    # Retrieve all of the anchor tags\n",
    "    tags = soup('a')\n",
    "    url = tags[pos].get('href',None)\n",
    "    name = url.split('.')[2].split('_')[2]\n",
    "    print name\n",
    " "
   ]
  },
  {
   "cell_type": "code",
   "execution_count": null,
   "metadata": {
    "collapsed": true
   },
   "outputs": [],
   "source": []
  },
  {
   "cell_type": "code",
   "execution_count": null,
   "metadata": {
    "collapsed": true
   },
   "outputs": [],
   "source": []
  },
  {
   "cell_type": "code",
   "execution_count": null,
   "metadata": {
    "collapsed": true
   },
   "outputs": [],
   "source": []
  }
 ],
 "metadata": {
  "kernelspec": {
   "display_name": "Python 2",
   "language": "python",
   "name": "python2"
  },
  "language_info": {
   "codemirror_mode": {
    "name": "ipython",
    "version": 2
   },
   "file_extension": ".py",
   "mimetype": "text/x-python",
   "name": "python",
   "nbconvert_exporter": "python",
   "pygments_lexer": "ipython2",
   "version": "2.7.13"
  }
 },
 "nbformat": 4,
 "nbformat_minor": 2
}
