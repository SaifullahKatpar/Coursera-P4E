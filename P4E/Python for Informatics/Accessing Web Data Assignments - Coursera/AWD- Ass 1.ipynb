{
 "cells": [
  {
   "cell_type": "code",
   "execution_count": 10,
   "metadata": {
    "collapsed": true
   },
   "outputs": [],
   "source": [
    "import re\n",
    "fh = open('regex_sum_10451.txt','r')\n",
    "data = fh.read()"
   ]
  },
  {
   "cell_type": "code",
   "execution_count": 11,
   "metadata": {},
   "outputs": [],
   "source": [
    "numbers = re.findall('[0-9]+',data)"
   ]
  },
  {
   "cell_type": "code",
   "execution_count": 12,
   "metadata": {},
   "outputs": [
    {
     "name": "stdout",
     "output_type": "stream",
     "text": [
      "['627', '7996', '2853', '9716', '5902', '1178', '9123', '9785', '1735', '8349', '6337', '342', '825', '2559', '9867', '7452', '6308', '7171', '3452', '6097', '6500', '6804', '1299', '4022', '4756', '3057', '4222', '2387', '5714', '6787', '4470', '2818', '6858', '5901', '519', '8172', '457', '310', '4570', '6298', '2419', '4', '2158', '2476', '4348', '1014', '5071', '5053', '5271', '5659', '6127', '6920', '5978', '4724', '1246', '7255', '4525', '2295', '3314', '9320', '2125', '2250', '2390', '4923', '6237', '7462', '1059', '5102', '8600', '7184', '7743', '6716', '4356', '6720', '724', '7020', '1599', '812', '3065', '142', '3985', '5593', '4', '3', '42']\n"
     ]
    }
   ],
   "source": [
    "print(numbers)"
   ]
  },
  {
   "cell_type": "code",
   "execution_count": 13,
   "metadata": {},
   "outputs": [],
   "source": [
    "numbers = [int(i) for i in numbers]"
   ]
  },
  {
   "cell_type": "code",
   "execution_count": 14,
   "metadata": {},
   "outputs": [
    {
     "name": "stdout",
     "output_type": "stream",
     "text": [
      "[627, 7996, 2853, 9716, 5902, 1178, 9123, 9785, 1735, 8349, 6337, 342, 825, 2559, 9867, 7452, 6308, 7171, 3452, 6097, 6500, 6804, 1299, 4022, 4756, 3057, 4222, 2387, 5714, 6787, 4470, 2818, 6858, 5901, 519, 8172, 457, 310, 4570, 6298, 2419, 4, 2158, 2476, 4348, 1014, 5071, 5053, 5271, 5659, 6127, 6920, 5978, 4724, 1246, 7255, 4525, 2295, 3314, 9320, 2125, 2250, 2390, 4923, 6237, 7462, 1059, 5102, 8600, 7184, 7743, 6716, 4356, 6720, 724, 7020, 1599, 812, 3065, 142, 3985, 5593, 4, 3, 42]\n"
     ]
    }
   ],
   "source": [
    "print(numbers)"
   ]
  },
  {
   "cell_type": "code",
   "execution_count": 15,
   "metadata": {},
   "outputs": [
    {
     "data": {
      "text/plain": [
       "374628"
      ]
     },
     "execution_count": 15,
     "metadata": {},
     "output_type": "execute_result"
    }
   ],
   "source": [
    "sum(numbers)"
   ]
  },
  {
   "cell_type": "code",
   "execution_count": 16,
   "metadata": {},
   "outputs": [
    {
     "name": "stdout",
     "output_type": "stream",
     "text": [
      "374628\n"
     ]
    }
   ],
   "source": [
    "import re\n",
    "print sum( [ int(i) for i in re.findall('[0-9]+',open('regex_sum_10451.txt','r').read()) ] )"
   ]
  },
  {
   "cell_type": "code",
   "execution_count": null,
   "metadata": {
    "collapsed": true
   },
   "outputs": [],
   "source": []
  }
 ],
 "metadata": {
  "kernelspec": {
   "display_name": "Python 2",
   "language": "python",
   "name": "python2"
  },
  "language_info": {
   "codemirror_mode": {
    "name": "ipython",
    "version": 2
   },
   "file_extension": ".py",
   "mimetype": "text/x-python",
   "name": "python",
   "nbconvert_exporter": "python",
   "pygments_lexer": "ipython2",
   "version": "2.7.13"
  }
 },
 "nbformat": 4,
 "nbformat_minor": 2
}
