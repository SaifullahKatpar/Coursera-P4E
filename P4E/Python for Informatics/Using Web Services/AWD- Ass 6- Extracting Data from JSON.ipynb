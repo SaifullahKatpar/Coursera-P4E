{
 "cells": [
  {
   "cell_type": "code",
   "execution_count": 11,
   "metadata": {
    "collapsed": false
   },
   "outputs": [
    {
     "name": "stdout",
     "output_type": "stream",
     "text": [
      "Enter URL: http://py4e-data.dr-chuck.net/comments_10456.json\n",
      "2576\n"
     ]
    }
   ],
   "source": [
    "import json\n",
    "import urllib.request, urllib.parse, urllib.error\n",
    "\n",
    "url = input('Enter URL: ')\n",
    "handle = urllib.request.urlopen(url)\n",
    "data = handle.read().decode()    \n",
    "\n",
    "#print(data)\n",
    "info = json.loads(data)\n",
    "comments = info['comments']\n",
    "count = 0\n",
    "for item in comments:\n",
    "    count+= int(item['count'])\n",
    "print(count)"
   ]
  },
  {
   "cell_type": "code",
   "execution_count": null,
   "metadata": {
    "collapsed": true
   },
   "outputs": [],
   "source": []
  }
 ],
 "metadata": {
  "anaconda-cloud": {},
  "kernelspec": {
   "display_name": "Python [default]",
   "language": "python",
   "name": "python3"
  },
  "language_info": {
   "codemirror_mode": {
    "name": "ipython",
    "version": 3
   },
   "file_extension": ".py",
   "mimetype": "text/x-python",
   "name": "python",
   "nbconvert_exporter": "python",
   "pygments_lexer": "ipython3",
   "version": "3.5.2"
  }
 },
 "nbformat": 4,
 "nbformat_minor": 1
}
