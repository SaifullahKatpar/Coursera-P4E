{
 "cells": [
  {
   "cell_type": "code",
   "execution_count": 16,
   "metadata": {},
   "outputs": [
    {
     "name": "stdout",
     "output_type": "stream",
     "text": [
      "Enter: 'http://py4e-data.dr-chuck.net/comments_10455.xml'\n",
      "Retrieving http://py4e-data.dr-chuck.net/comments_10455.xml\n",
      "Retrieved 4213 characters\n",
      "2652\n",
      "2652\n"
     ]
    }
   ],
   "source": [
    "import urllib2, urllib\n",
    "import xml.etree.ElementTree as ET\n",
    "\n",
    "url = input('Enter: ')\n",
    "print'Retrieving', url\n",
    "uh = urllib2.urlopen(url)\n",
    "data = uh.read()\n",
    "print 'Retrieved', len(data), 'characters'\n",
    "#print data.decode()\n",
    "tree = ET.fromstring(data)\n",
    "\n",
    "lst = tree.findall('comments')\n",
    "comments = lst[0].findall('comment')\n",
    "count = 0\n",
    "for comment in comments:\n",
    "    count = count +  int(comment.find('count').text)\n",
    "print count\n",
    "count = 0\n",
    "elems = tree.findall('.//count')\n",
    "for e in elems:\n",
    "    count = count + int(e.text)\n",
    "print count"
   ]
  },
  {
   "cell_type": "code",
   "execution_count": null,
   "metadata": {
    "collapsed": true
   },
   "outputs": [],
   "source": []
  }
 ],
 "metadata": {
  "kernelspec": {
   "display_name": "Python 2",
   "language": "python",
   "name": "python2"
  },
  "language_info": {
   "codemirror_mode": {
    "name": "ipython",
    "version": 2
   },
   "file_extension": ".py",
   "mimetype": "text/x-python",
   "name": "python",
   "nbconvert_exporter": "python",
   "pygments_lexer": "ipython2",
   "version": "2.7.13"
  }
 },
 "nbformat": 4,
 "nbformat_minor": 2
}
